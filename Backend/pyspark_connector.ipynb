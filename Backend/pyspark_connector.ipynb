{
 "cells": [
  {
   "cell_type": "code",
   "execution_count": 12,
   "id": "54ebeca4",
   "metadata": {},
   "outputs": [],
   "source": [
    "from pyspark.sql import SparkSession\n",
    "\n",
    "# Update the path to the downloaded PostgreSQL JDBC jar\n",
    "jdbc_driver_path = r\"D:\\I4-AMS-S2\\Big_Data\\optimize_marketing\\Backend\\postgresql-42.7.7.jar\"\n",
    "\n",
    "spark = SparkSession.builder \\\n",
    "    .appName(\"PostgresConnection\") \\\n",
    "    .config(\"spark.jars\", jdbc_driver_path) \\\n",
    "    .getOrCreate()"
   ]
  },
  {
   "cell_type": "code",
   "execution_count": 13,
   "id": "6d3be68b",
   "metadata": {},
   "outputs": [
    {
     "name": "stdout",
     "output_type": "stream",
     "text": [
      "[Row(transaction_id=1, transaction_date='1/1/2023', transaction_time=datetime.datetime(2025, 6, 15, 7, 6, 11), transaction_qty=2, store_id=5, store_location='Lower Manhattan', product_id=32, unit_price=3.0, product_category='Coffee', product_type='Gourmet brewed coffee', product_detail='Ethiopia Rg'), Row(transaction_id=2, transaction_date='1/1/2023', transaction_time=datetime.datetime(2025, 6, 15, 7, 8, 56), transaction_qty=2, store_id=5, store_location='Lower Manhattan', product_id=57, unit_price=3.1, product_category='Tea', product_type='Brewed Chai tea', product_detail='Spicy Eye Opener Chai Lg'), Row(transaction_id=3, transaction_date='1/1/2023', transaction_time=datetime.datetime(2025, 6, 15, 7, 14, 4), transaction_qty=2, store_id=5, store_location='Lower Manhattan', product_id=59, unit_price=4.5, product_category='Drinking Chocolate', product_type='Hot chocolate', product_detail='Dark chocolate Lg'), Row(transaction_id=4, transaction_date='1/1/2023', transaction_time=datetime.datetime(2025, 6, 15, 7, 20, 24), transaction_qty=1, store_id=5, store_location='Lower Manhattan', product_id=22, unit_price=2.0, product_category='Coffee', product_type='Drip coffee', product_detail='Our Old Time Diner Blend Sm'), Row(transaction_id=5, transaction_date='1/1/2023', transaction_time=datetime.datetime(2025, 6, 15, 7, 22, 41), transaction_qty=2, store_id=5, store_location='Lower Manhattan', product_id=57, unit_price=3.1, product_category='Tea', product_type='Brewed Chai tea', product_detail='Spicy Eye Opener Chai Lg')]\n",
      "Number of columns: 11\n",
      "Number of rows: 149116\n"
     ]
    }
   ],
   "source": [
    "csv_file_path = \"./../data/Coffee_Shop_Sales.csv\"\n",
    "\n",
    "# If your CSV has headers\n",
    "df = spark.read \\\n",
    "    .option(\"header\", \"true\") \\\n",
    "    .option(\"inferSchema\", \"true\") \\\n",
    "    .csv(csv_file_path)\n",
    "\n",
    "print(df.head(5))\n",
    "\n",
    "num_columns = len(df.columns)\n",
    "print(\"Number of columns:\", num_columns)\n",
    "\n",
    "num_rows = df.count()\n",
    "print(\"Number of rows:\", num_rows)"
   ]
  },
  {
   "cell_type": "code",
   "execution_count": 14,
   "id": "c66e9af5",
   "metadata": {},
   "outputs": [],
   "source": [
    "jdbc_url = \"jdbc:postgresql://localhost:5432/coffee_shop\"\n",
    "connection_properties = {\n",
    "    \"user\": \"jame\",\n",
    "    \"password\": \"admin\",\n",
    "    \"driver\": \"org.postgresql.Driver\"\n",
    "}"
   ]
  },
  {
   "cell_type": "code",
   "execution_count": 15,
   "id": "a25ce297",
   "metadata": {},
   "outputs": [],
   "source": [
    "# Write DataFrame to PostgreSQL (creates the table if it doesn't exist)\n",
    "df.write.jdbc(\n",
    "    url=jdbc_url,\n",
    "    table=\"coffee_shop_sales\",\n",
    "    mode=\"overwrite\",\n",
    "    properties=connection_properties\n",
    ")\n",
    "\n",
    "# df.orderBy(\"transaction_id\").write.jdbc(\n",
    "#     url=jdbc_url,\n",
    "#     table=\"coffee_shop_sales\",\n",
    "#     mode=\"overwrite\",\n",
    "#     properties=connection_properties\n",
    "# )"
   ]
  },
  {
   "cell_type": "code",
   "execution_count": 16,
   "id": "d0bb2d4c",
   "metadata": {},
   "outputs": [
    {
     "name": "stdout",
     "output_type": "stream",
     "text": [
      "+--------------+----------------+-------------------+---------------+--------+---------------+----------+----------+------------------+--------------------+--------------------+\n",
      "|transaction_id|transaction_date|   transaction_time|transaction_qty|store_id| store_location|product_id|unit_price|  product_category|        product_type|      product_detail|\n",
      "+--------------+----------------+-------------------+---------------+--------+---------------+----------+----------+------------------+--------------------+--------------------+\n",
      "|        138132|       6/21/2023|2025-06-15 08:30:42|              2|       8| Hell's Kitchen|        31|       2.2|            Coffee|Gourmet brewed co...|         Ethiopia Sm|\n",
      "|        138133|       6/21/2023|2025-06-15 08:30:47|              1|       8| Hell's Kitchen|        59|       4.5|Drinking Chocolate|       Hot chocolate|   Dark chocolate Lg|\n",
      "|        138134|       6/21/2023|2025-06-15 08:32:23|              2|       8| Hell's Kitchen|        56|      2.55|               Tea|     Brewed Chai tea|Spicy Eye Opener ...|\n",
      "|        138135|       6/21/2023|2025-06-15 08:32:23|              1|       8| Hell's Kitchen|        76|       3.5|            Bakery|            Biscotti|Chocolate Chip Bi...|\n",
      "|        138136|       6/21/2023|2025-06-15 08:32:23|              1|       8| Hell's Kitchen|         2|      18.0|      Coffee beans|   House blend Beans|Our Old Time Dine...|\n",
      "|        138137|       6/21/2023|2025-06-15 08:32:30|              1|       5|Lower Manhattan|        26|       3.0|            Coffee|Organic brewed co...|        Brazilian Rg|\n",
      "|        138138|       6/21/2023|2025-06-15 08:32:42|              1|       8| Hell's Kitchen|        52|       2.5|               Tea|     Brewed Chai tea|Traditional Blend...|\n",
      "|        138139|       6/21/2023|2025-06-15 08:32:44|              1|       3|        Astoria|        53|       3.0|               Tea|     Brewed Chai tea|Traditional Blend...|\n",
      "|        138140|       6/21/2023|2025-06-15 08:32:51|              2|       5|Lower Manhattan|        25|       2.2|            Coffee|Organic brewed co...|        Brazilian Sm|\n",
      "|        138141|       6/21/2023|2025-06-15 08:32:51|              1|       5|Lower Manhattan|        71|      3.75|            Bakery|              Pastry| Chocolate Croissant|\n",
      "|        138142|       6/21/2023|2025-06-15 08:32:59|              2|       3|        Astoria|        60|      3.75|Drinking Chocolate|       Hot chocolate|Sustainably Grown...|\n",
      "|        138143|       6/21/2023|2025-06-15 08:33:18|              3|       5|Lower Manhattan|        60|      3.75|Drinking Chocolate|       Hot chocolate|Sustainably Grown...|\n",
      "|        138144|       6/21/2023|2025-06-15 08:33:18|              1|       5|Lower Manhattan|        75|       3.5|            Bakery|              Pastry|           Croissant|\n",
      "|        138145|       6/21/2023|2025-06-15 08:33:26|              1|       3|        Astoria|        71|      3.75|            Bakery|              Pastry| Chocolate Croissant|\n",
      "|        138146|       6/21/2023|2025-06-15 08:33:32|              1|       3|        Astoria|        30|       3.0|            Coffee|Gourmet brewed co...|Columbian Medium ...|\n",
      "|        138147|       6/21/2023|2025-06-15 08:33:55|              1|       3|        Astoria|        46|       2.5|               Tea|    Brewed Green tea|Serenity Green Te...|\n",
      "|        138148|       6/21/2023|2025-06-15 08:35:24|              2|       8| Hell's Kitchen|        48|       2.5|               Tea|    Brewed Black tea|English Breakfast Rg|\n",
      "|        138149|       6/21/2023|2025-06-15 08:35:24|              1|       8| Hell's Kitchen|        81|      28.0|           Branded|            Clothing|I Need My Bean! T...|\n",
      "|        138150|       6/21/2023|2025-06-15 08:35:32|              1|       3|        Astoria|        29|       2.5|            Coffee|Gourmet brewed co...|Columbian Medium ...|\n",
      "|        138151|       6/21/2023|2025-06-15 08:35:44|              2|       8| Hell's Kitchen|        57|       3.1|               Tea|     Brewed Chai tea|Spicy Eye Opener ...|\n",
      "+--------------+----------------+-------------------+---------------+--------+---------------+----------+----------+------------------+--------------------+--------------------+\n",
      "only showing top 20 rows\n"
     ]
    }
   ],
   "source": [
    "# Read the data from PostgreSQL\n",
    "df_from_db = spark.read.jdbc(\n",
    "    url=jdbc_url,\n",
    "    table=\"coffee_shop_sales\",  # or \"coffee_shop_sales\"\n",
    "    properties=connection_properties\n",
    ")\n",
    "df_from_db.show()"
   ]
  },
  {
   "cell_type": "code",
   "execution_count": 17,
   "id": "262e660d",
   "metadata": {},
   "outputs": [
    {
     "name": "stdout",
     "output_type": "stream",
     "text": [
      "Number of columns: 11\n",
      "Number of rows: 149116\n",
      "+--------------+----------------+-------------------+---------------+--------+---------------+----------+----------+------------------+--------------------+--------------------+\n",
      "|transaction_id|transaction_date|   transaction_time|transaction_qty|store_id| store_location|product_id|unit_price|  product_category|        product_type|      product_detail|\n",
      "+--------------+----------------+-------------------+---------------+--------+---------------+----------+----------+------------------+--------------------+--------------------+\n",
      "|             1|        1/1/2023|2025-06-15 07:06:11|              2|       5|Lower Manhattan|        32|       3.0|            Coffee|Gourmet brewed co...|         Ethiopia Rg|\n",
      "|             2|        1/1/2023|2025-06-15 07:08:56|              2|       5|Lower Manhattan|        57|       3.1|               Tea|     Brewed Chai tea|Spicy Eye Opener ...|\n",
      "|             3|        1/1/2023|2025-06-15 07:14:04|              2|       5|Lower Manhattan|        59|       4.5|Drinking Chocolate|       Hot chocolate|   Dark chocolate Lg|\n",
      "|             4|        1/1/2023|2025-06-15 07:20:24|              1|       5|Lower Manhattan|        22|       2.0|            Coffee|         Drip coffee|Our Old Time Dine...|\n",
      "|             5|        1/1/2023|2025-06-15 07:22:41|              2|       5|Lower Manhattan|        57|       3.1|               Tea|     Brewed Chai tea|Spicy Eye Opener ...|\n",
      "+--------------+----------------+-------------------+---------------+--------+---------------+----------+----------+------------------+--------------------+--------------------+\n",
      "only showing top 5 rows\n"
     ]
    }
   ],
   "source": [
    "df_from_db = df_from_db.orderBy(\"transaction_id\")\n",
    "\n",
    "num_columns = len(df_from_db.columns)\n",
    "print(\"Number of columns:\", num_columns)\n",
    "\n",
    "num_rows = df_from_db.count()\n",
    "print(\"Number of rows:\", num_rows)\n",
    "\n",
    "df_from_db.show(5)"
   ]
  },
  {
   "cell_type": "code",
   "execution_count": 18,
   "id": "3c663ce0",
   "metadata": {},
   "outputs": [],
   "source": [
    "import pandas as pd\n",
    "\n",
    "pdf = df_from_db.toPandas()\n",
    "\n",
    "pdf.to_csv('./../Data/coffee_shop_export.csv', index=False)\n"
   ]
  }
 ],
 "metadata": {
  "kernelspec": {
   "display_name": "jupyter",
   "language": "python",
   "name": "python3"
  },
  "language_info": {
   "codemirror_mode": {
    "name": "ipython",
    "version": 3
   },
   "file_extension": ".py",
   "mimetype": "text/x-python",
   "name": "python",
   "nbconvert_exporter": "python",
   "pygments_lexer": "ipython3",
   "version": "3.12.8"
  }
 },
 "nbformat": 4,
 "nbformat_minor": 5
}
